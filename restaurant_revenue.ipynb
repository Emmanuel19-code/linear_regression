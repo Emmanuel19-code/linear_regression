{
 "cells": [
  {
   "cell_type": "code",
   "execution_count": 1,
   "id": "bc043dd7-4958-48d7-8239-6acf3cd1f9c1",
   "metadata": {},
   "outputs": [],
   "source": [
    "import pandas as pd\n",
    "import numpy as np\n",
    "import matplotlib.pyplot as plt\n",
    "from sklearn.linear_model import LinearRegression\n",
    "from sklearn.model_selection import train_test_split"
   ]
  },
  {
   "cell_type": "code",
   "execution_count": 2,
   "id": "3ae0f60f-10ba-42cd-a0df-a43a9bb1f939",
   "metadata": {},
   "outputs": [],
   "source": [
    "data = pd.read_csv(\"Restaurant_revenue (1).csv\")"
   ]
  },
  {
   "cell_type": "code",
   "execution_count": 3,
   "id": "047a0f73-7b06-4c82-9749-ccf86b427aa1",
   "metadata": {},
   "outputs": [
    {
     "name": "stdout",
     "output_type": "stream",
     "text": [
      "<class 'pandas.core.frame.DataFrame'>\n",
      "RangeIndex: 1000 entries, 0 to 999\n",
      "Data columns (total 8 columns):\n",
      " #   Column                     Non-Null Count  Dtype  \n",
      "---  ------                     --------------  -----  \n",
      " 0   Number_of_Customers        1000 non-null   int64  \n",
      " 1   Menu_Price                 1000 non-null   float64\n",
      " 2   Marketing_Spend            1000 non-null   float64\n",
      " 3   Cuisine_Type               1000 non-null   object \n",
      " 4   Average_Customer_Spending  1000 non-null   float64\n",
      " 5   Promotions                 1000 non-null   int64  \n",
      " 6   Reviews                    1000 non-null   int64  \n",
      " 7   Monthly_Revenue            1000 non-null   float64\n",
      "dtypes: float64(4), int64(3), object(1)\n",
      "memory usage: 62.6+ KB\n"
     ]
    }
   ],
   "source": [
    "data.info()"
   ]
  },
  {
   "cell_type": "code",
   "execution_count": 4,
   "id": "ca045b69-bdc5-47ce-b135-10495298e993",
   "metadata": {},
   "outputs": [
    {
     "data": {
      "text/html": [
       "<div>\n",
       "<style scoped>\n",
       "    .dataframe tbody tr th:only-of-type {\n",
       "        vertical-align: middle;\n",
       "    }\n",
       "\n",
       "    .dataframe tbody tr th {\n",
       "        vertical-align: top;\n",
       "    }\n",
       "\n",
       "    .dataframe thead th {\n",
       "        text-align: right;\n",
       "    }\n",
       "</style>\n",
       "<table border=\"1\" class=\"dataframe\">\n",
       "  <thead>\n",
       "    <tr style=\"text-align: right;\">\n",
       "      <th></th>\n",
       "      <th>Number_of_Customers</th>\n",
       "      <th>Menu_Price</th>\n",
       "      <th>Marketing_Spend</th>\n",
       "      <th>Average_Customer_Spending</th>\n",
       "      <th>Promotions</th>\n",
       "      <th>Reviews</th>\n",
       "      <th>Monthly_Revenue</th>\n",
       "    </tr>\n",
       "  </thead>\n",
       "  <tbody>\n",
       "    <tr>\n",
       "      <th>count</th>\n",
       "      <td>1000.000000</td>\n",
       "      <td>1000.000000</td>\n",
       "      <td>1000.000000</td>\n",
       "      <td>1000.000000</td>\n",
       "      <td>1000.000000</td>\n",
       "      <td>1000.000000</td>\n",
       "      <td>1000.000000</td>\n",
       "    </tr>\n",
       "    <tr>\n",
       "      <th>mean</th>\n",
       "      <td>53.271000</td>\n",
       "      <td>30.219120</td>\n",
       "      <td>9.958726</td>\n",
       "      <td>29.477085</td>\n",
       "      <td>0.497000</td>\n",
       "      <td>49.837000</td>\n",
       "      <td>268.724172</td>\n",
       "    </tr>\n",
       "    <tr>\n",
       "      <th>std</th>\n",
       "      <td>26.364914</td>\n",
       "      <td>11.278760</td>\n",
       "      <td>5.845586</td>\n",
       "      <td>11.471686</td>\n",
       "      <td>0.500241</td>\n",
       "      <td>29.226334</td>\n",
       "      <td>103.982950</td>\n",
       "    </tr>\n",
       "    <tr>\n",
       "      <th>min</th>\n",
       "      <td>10.000000</td>\n",
       "      <td>10.009501</td>\n",
       "      <td>0.003768</td>\n",
       "      <td>10.037177</td>\n",
       "      <td>0.000000</td>\n",
       "      <td>0.000000</td>\n",
       "      <td>-28.977809</td>\n",
       "    </tr>\n",
       "    <tr>\n",
       "      <th>25%</th>\n",
       "      <td>30.000000</td>\n",
       "      <td>20.396828</td>\n",
       "      <td>4.690724</td>\n",
       "      <td>19.603041</td>\n",
       "      <td>0.000000</td>\n",
       "      <td>24.000000</td>\n",
       "      <td>197.103642</td>\n",
       "    </tr>\n",
       "    <tr>\n",
       "      <th>50%</th>\n",
       "      <td>54.000000</td>\n",
       "      <td>30.860614</td>\n",
       "      <td>10.092047</td>\n",
       "      <td>29.251365</td>\n",
       "      <td>0.000000</td>\n",
       "      <td>50.000000</td>\n",
       "      <td>270.213964</td>\n",
       "    </tr>\n",
       "    <tr>\n",
       "      <th>75%</th>\n",
       "      <td>74.000000</td>\n",
       "      <td>39.843868</td>\n",
       "      <td>14.992436</td>\n",
       "      <td>39.553220</td>\n",
       "      <td>1.000000</td>\n",
       "      <td>76.000000</td>\n",
       "      <td>343.395793</td>\n",
       "    </tr>\n",
       "    <tr>\n",
       "      <th>max</th>\n",
       "      <td>99.000000</td>\n",
       "      <td>49.974140</td>\n",
       "      <td>19.994276</td>\n",
       "      <td>49.900725</td>\n",
       "      <td>1.000000</td>\n",
       "      <td>99.000000</td>\n",
       "      <td>563.381332</td>\n",
       "    </tr>\n",
       "  </tbody>\n",
       "</table>\n",
       "</div>"
      ],
      "text/plain": [
       "       Number_of_Customers   Menu_Price  Marketing_Spend  \\\n",
       "count          1000.000000  1000.000000      1000.000000   \n",
       "mean             53.271000    30.219120         9.958726   \n",
       "std              26.364914    11.278760         5.845586   \n",
       "min              10.000000    10.009501         0.003768   \n",
       "25%              30.000000    20.396828         4.690724   \n",
       "50%              54.000000    30.860614        10.092047   \n",
       "75%              74.000000    39.843868        14.992436   \n",
       "max              99.000000    49.974140        19.994276   \n",
       "\n",
       "       Average_Customer_Spending   Promotions      Reviews  Monthly_Revenue  \n",
       "count                1000.000000  1000.000000  1000.000000      1000.000000  \n",
       "mean                   29.477085     0.497000    49.837000       268.724172  \n",
       "std                    11.471686     0.500241    29.226334       103.982950  \n",
       "min                    10.037177     0.000000     0.000000       -28.977809  \n",
       "25%                    19.603041     0.000000    24.000000       197.103642  \n",
       "50%                    29.251365     0.000000    50.000000       270.213964  \n",
       "75%                    39.553220     1.000000    76.000000       343.395793  \n",
       "max                    49.900725     1.000000    99.000000       563.381332  "
      ]
     },
     "execution_count": 4,
     "metadata": {},
     "output_type": "execute_result"
    }
   ],
   "source": [
    "data.describe()"
   ]
  },
  {
   "cell_type": "code",
   "execution_count": 13,
   "id": "7e0cc55e-e1af-4cf6-af0e-c20649c28ad8",
   "metadata": {},
   "outputs": [
    {
     "data": {
      "text/plain": [
       "<Axes: ylabel='Frequency'>"
      ]
     },
     "execution_count": 13,
     "metadata": {},
     "output_type": "execute_result"
    },
    {
     "data": {
      "image/png": "[encoded data removed]",
      "text/plain": [
       "<Figure size 300x300 with 1 Axes>"
      ]
     },
     "metadata": {},
     "output_type": "display_data"
    }
   ],
   "source": [
    "plt.figure(figsize=(3,3))\n",
    "data[\"Number_of_Customers\"].plot(kind=\"hist\")\n"
   ]
  },
  {
   "cell_type": "code",
   "execution_count": 16,
   "id": "a8de2059-d0ee-4ad4-ae48-4ff9427789a3",
   "metadata": {},
   "outputs": [
    {
     "data": {
      "text/plain": [
       "<Axes: ylabel='Frequency'>"
      ]
     },
     "execution_count": 16,
     "metadata": {},
     "output_type": "execute_result"
    },
    {
     "data": {
      "image/png": "[encoded data removed]",
      "text/plain": [
       "<Figure size 300x300 with 1 Axes>"
      ]
     },
     "metadata": {},
     "output_type": "display_data"
    }
   ],
   "source": [
    "plt.figure(figsize=(3,3))\n",
    "data[\"Menu_Price\"].plot(kind=\"hist\")"
   ]
  },
  {
   "cell_type": "code",
   "execution_count": 17,
   "id": "a6d2d795-1f16-4ce3-b8f5-751f6114a8a0",
   "metadata": {},
   "outputs": [],
   "source": [
    "from sklearn.preprocessing import OneHotEncoder"
   ]
  },
  {
   "cell_type": "code",
   "execution_count": 18,
   "id": "e549f617-a920-4b4e-8fdb-f626e62e5336",
   "metadata": {},
   "outputs": [],
   "source": [
    "ohe = OneHotEncoder()"
   ]
  },
  {
   "cell_type": "code",
   "execution_count": 19,
   "id": "b1cbfa28-134e-4932-8bd7-46d3e3562f34",
   "metadata": {},
   "outputs": [],
   "source": [
    "encoded_cuisine = ohe.fit_transform(data[[\"Cuisine_Type\"]]).toarray()"
   ]
  },
  {
   "cell_type": "code",
   "execution_count": 20,
   "id": "ace45920-3904-477c-810b-b9a2d4f20c9e",
   "metadata": {},
   "outputs": [
    {
     "data": {
      "text/plain": [
       "array([[0., 0., 1., 0.],\n",
       "       [0., 1., 0., 0.],\n",
       "       [0., 0., 1., 0.],\n",
       "       ...,\n",
       "       [0., 0., 1., 0.],\n",
       "       [0., 0., 1., 0.],\n",
       "       [0., 1., 0., 0.]])"
      ]
     },
     "execution_count": 20,
     "metadata": {},
     "output_type": "execute_result"
    }
   ],
   "source": [
    "encoded_cuisine"
   ]
  },
  {
   "cell_type": "code",
   "execution_count": 21,
   "id": "89abccce-520b-4ac9-925b-8d50f5054cec",
   "metadata": {},
   "outputs": [],
   "source": [
    "data[\"Cuisine_Type\"] = encoded_cuisine"
   ]
  },
  {
   "cell_type": "code",
   "execution_count": null,
   "id": "3c420aae-cecb-4911-adaf-70687eefc915",
   "metadata": {},
   "outputs": [],
   "source": []
  },
  {
   "cell_type": "code",
   "execution_count": 22,
   "id": "98c3db70-76aa-4490-97d5-fcbbc3eeb4d9",
   "metadata": {},
   "outputs": [
    {
     "data": {
      "text/html": [
       "<div>\n",
       "<style scoped>\n",
       "    .dataframe tbody tr th:only-of-type {\n",
       "        vertical-align: middle;\n",
       "    }\n",
       "\n",
       "    .dataframe tbody tr th {\n",
       "        vertical-align: top;\n",
       "    }\n",
       "\n",
       "    .dataframe thead th {\n",
       "        text-align: right;\n",
       "    }\n",
       "</style>\n",
       "<table border=\"1\" class=\"dataframe\">\n",
       "  <thead>\n",
       "    <tr style=\"text-align: right;\">\n",
       "      <th></th>\n",
       "      <th>Number_of_Customers</th>\n",
       "      <th>Menu_Price</th>\n",
       "      <th>Marketing_Spend</th>\n",
       "      <th>Cuisine_Type</th>\n",
       "      <th>Average_Customer_Spending</th>\n",
       "      <th>Promotions</th>\n",
       "      <th>Reviews</th>\n",
       "      <th>Monthly_Revenue</th>\n",
       "    </tr>\n",
       "  </thead>\n",
       "  <tbody>\n",
       "    <tr>\n",
       "      <th>0</th>\n",
       "      <td>61</td>\n",
       "      <td>43.117635</td>\n",
       "      <td>12.663793</td>\n",
       "      <td>0.0</td>\n",
       "      <td>36.236133</td>\n",
       "      <td>0</td>\n",
       "      <td>45</td>\n",
       "      <td>350.912040</td>\n",
       "    </tr>\n",
       "    <tr>\n",
       "      <th>1</th>\n",
       "      <td>24</td>\n",
       "      <td>40.020077</td>\n",
       "      <td>4.577892</td>\n",
       "      <td>0.0</td>\n",
       "      <td>17.952562</td>\n",
       "      <td>0</td>\n",
       "      <td>36</td>\n",
       "      <td>221.319091</td>\n",
       "    </tr>\n",
       "    <tr>\n",
       "      <th>2</th>\n",
       "      <td>81</td>\n",
       "      <td>41.981485</td>\n",
       "      <td>4.652911</td>\n",
       "      <td>0.0</td>\n",
       "      <td>22.600420</td>\n",
       "      <td>1</td>\n",
       "      <td>91</td>\n",
       "      <td>326.529763</td>\n",
       "    </tr>\n",
       "    <tr>\n",
       "      <th>3</th>\n",
       "      <td>70</td>\n",
       "      <td>43.005307</td>\n",
       "      <td>4.416053</td>\n",
       "      <td>0.0</td>\n",
       "      <td>18.984098</td>\n",
       "      <td>1</td>\n",
       "      <td>59</td>\n",
       "      <td>348.190573</td>\n",
       "    </tr>\n",
       "    <tr>\n",
       "      <th>4</th>\n",
       "      <td>30</td>\n",
       "      <td>17.456199</td>\n",
       "      <td>3.475052</td>\n",
       "      <td>0.0</td>\n",
       "      <td>12.766143</td>\n",
       "      <td>1</td>\n",
       "      <td>30</td>\n",
       "      <td>185.009121</td>\n",
       "    </tr>\n",
       "    <tr>\n",
       "      <th>...</th>\n",
       "      <td>...</td>\n",
       "      <td>...</td>\n",
       "      <td>...</td>\n",
       "      <td>...</td>\n",
       "      <td>...</td>\n",
       "      <td>...</td>\n",
       "      <td>...</td>\n",
       "      <td>...</td>\n",
       "    </tr>\n",
       "    <tr>\n",
       "      <th>995</th>\n",
       "      <td>73</td>\n",
       "      <td>41.307842</td>\n",
       "      <td>12.122931</td>\n",
       "      <td>0.0</td>\n",
       "      <td>19.033585</td>\n",
       "      <td>1</td>\n",
       "      <td>40</td>\n",
       "      <td>249.312034</td>\n",
       "    </tr>\n",
       "    <tr>\n",
       "      <th>996</th>\n",
       "      <td>31</td>\n",
       "      <td>20.615496</td>\n",
       "      <td>5.822885</td>\n",
       "      <td>0.0</td>\n",
       "      <td>17.040990</td>\n",
       "      <td>0</td>\n",
       "      <td>57</td>\n",
       "      <td>110.228767</td>\n",
       "    </tr>\n",
       "    <tr>\n",
       "      <th>997</th>\n",
       "      <td>69</td>\n",
       "      <td>17.110656</td>\n",
       "      <td>4.141898</td>\n",
       "      <td>0.0</td>\n",
       "      <td>44.649315</td>\n",
       "      <td>0</td>\n",
       "      <td>55</td>\n",
       "      <td>312.212552</td>\n",
       "    </tr>\n",
       "    <tr>\n",
       "      <th>998</th>\n",
       "      <td>73</td>\n",
       "      <td>37.664722</td>\n",
       "      <td>3.046556</td>\n",
       "      <td>0.0</td>\n",
       "      <td>27.767358</td>\n",
       "      <td>0</td>\n",
       "      <td>23</td>\n",
       "      <td>272.482204</td>\n",
       "    </tr>\n",
       "    <tr>\n",
       "      <th>999</th>\n",
       "      <td>81</td>\n",
       "      <td>34.722067</td>\n",
       "      <td>17.989104</td>\n",
       "      <td>0.0</td>\n",
       "      <td>15.482112</td>\n",
       "      <td>1</td>\n",
       "      <td>72</td>\n",
       "      <td>379.973072</td>\n",
       "    </tr>\n",
       "  </tbody>\n",
       "</table>\n",
       "<p>1000 rows × 8 columns</p>\n",
       "</div>"
      ],
      "text/plain": [
       "     Number_of_Customers  Menu_Price  Marketing_Spend  Cuisine_Type  \\\n",
       "0                     61   43.117635        12.663793           0.0   \n",
       "1                     24   40.020077         4.577892           0.0   \n",
       "2                     81   41.981485         4.652911           0.0   \n",
       "3                     70   43.005307         4.416053           0.0   \n",
       "4                     30   17.456199         3.475052           0.0   \n",
       "..                   ...         ...              ...           ...   \n",
       "995                   73   41.307842        12.122931           0.0   \n",
       "996                   31   20.615496         5.822885           0.0   \n",
       "997                   69   17.110656         4.141898           0.0   \n",
       "998                   73   37.664722         3.046556           0.0   \n",
       "999                   81   34.722067        17.989104           0.0   \n",
       "\n",
       "     Average_Customer_Spending  Promotions  Reviews  Monthly_Revenue  \n",
       "0                    36.236133           0       45       350.912040  \n",
       "1                    17.952562           0       36       221.319091  \n",
       "2                    22.600420           1       91       326.529763  \n",
       "3                    18.984098           1       59       348.190573  \n",
       "4                    12.766143           1       30       185.009121  \n",
       "..                         ...         ...      ...              ...  \n",
       "995                  19.033585           1       40       249.312034  \n",
       "996                  17.040990           0       57       110.228767  \n",
       "997                  44.649315           0       55       312.212552  \n",
       "998                  27.767358           0       23       272.482204  \n",
       "999                  15.482112           1       72       379.973072  \n",
       "\n",
       "[1000 rows x 8 columns]"
      ]
     },
     "execution_count": 22,
     "metadata": {},
     "output_type": "execute_result"
    }
   ],
   "source": [
    "data"
   ]
  },
  {
   "cell_type": "code",
   "execution_count": 23,
   "id": "4933ea86-9bc1-4ca3-99f2-1418f0b5ebbe",
   "metadata": {},
   "outputs": [],
   "source": [
    "feature = data[[\"Number_of_Customers\",\"Menu_Price\",\"Marketing_Spend\",\"Cuisine_Type\",\"Average_Customer_Spending\",\"Promotions\",\"Reviews\"]]\n",
    "target = data[\"Monthly_Revenue\"]"
   ]
  },
  {
   "cell_type": "code",
   "execution_count": 38,
   "id": "9fa16916-381a-4d9c-be16-b42de4632521",
   "metadata": {},
   "outputs": [],
   "source": [
    "x_train,x_test,y_train,y_test = train_test_split(feature,target,test_size=0.2,random_state=100)"
   ]
  },
  {
   "cell_type": "code",
   "execution_count": 39,
   "id": "b01cd431-beef-4a58-9937-b69a067df2cc",
   "metadata": {},
   "outputs": [],
   "source": [
    "regression = LinearRegression()"
   ]
  },
  {
   "cell_type": "code",
   "execution_count": 40,
   "id": "d461d15d-3d08-4930-8ae0-e3cf6deb47b7",
   "metadata": {},
   "outputs": [
    {
     "data": {
      "text/html": [
       "<style>#sk-container-id-3 {color: black;}#sk-container-id-3 pre{padding: 0;}#sk-container-id-3 div.sk-toggleable {background-color: white;}#sk-container-id-3 label.sk-toggleable__label {cursor: pointer;display: block;width: 100%;margin-bottom: 0;padding: 0.3em;box-sizing: border-box;text-align: center;}#sk-container-id-3 label.sk-toggleable__label-arrow:before {content: \"▸\";float: left;margin-right: 0.25em;color: #696969;}#sk-container-id-3 label.sk-toggleable__label-arrow:hover:before {color: black;}#sk-container-id-3 div.sk-estimator:hover label.sk-toggleable__label-arrow:before {color: black;}#sk-container-id-3 div.sk-toggleable__content {max-height: 0;max-width: 0;overflow: hidden;text-align: left;background-color: #f0f8ff;}#sk-container-id-3 div.sk-toggleable__content pre {margin: 0.2em;color: black;border-radius: 0.25em;background-color: #f0f8ff;}#sk-container-id-3 input.sk-toggleable__control:checked~div.sk-toggleable__content {max-height: 200px;max-width: 100%;overflow: auto;}#sk-container-id-3 input.sk-toggleable__control:checked~label.sk-toggleable__label-arrow:before {content: \"▾\";}#sk-container-id-3 div.sk-estimator input.sk-toggleable__control:checked~label.sk-toggleable__label {background-color: #d4ebff;}#sk-container-id-3 div.sk-label input.sk-toggleable__control:checked~label.sk-toggleable__label {background-color: #d4ebff;}#sk-container-id-3 input.sk-hidden--visually {border: 0;clip: rect(1px 1px 1px 1px);clip: rect(1px, 1px, 1px, 1px);height: 1px;margin: -1px;overflow: hidden;padding: 0;position: absolute;width: 1px;}#sk-container-id-3 div.sk-estimator {font-family: monospace;background-color: #f0f8ff;border: 1px dotted black;border-radius: 0.25em;box-sizing: border-box;margin-bottom: 0.5em;}#sk-container-id-3 div.sk-estimator:hover {background-color: #d4ebff;}#sk-container-id-3 div.sk-parallel-item::after {content: \"\";width: 100%;border-bottom: 1px solid gray;flex-grow: 1;}#sk-container-id-3 div.sk-label:hover label.sk-toggleable__label {background-color: #d4ebff;}#sk-container-id-3 div.sk-serial::before {content: \"\";position: absolute;border-left: 1px solid gray;box-sizing: border-box;top: 0;bottom: 0;left: 50%;z-index: 0;}#sk-container-id-3 div.sk-serial {display: flex;flex-direction: column;align-items: center;background-color: white;padding-right: 0.2em;padding-left: 0.2em;position: relative;}#sk-container-id-3 div.sk-item {position: relative;z-index: 1;}#sk-container-id-3 div.sk-parallel {display: flex;align-items: stretch;justify-content: center;background-color: white;position: relative;}#sk-container-id-3 div.sk-item::before, #sk-container-id-3 div.sk-parallel-item::before {content: \"\";position: absolute;border-left: 1px solid gray;box-sizing: border-box;top: 0;bottom: 0;left: 50%;z-index: -1;}#sk-container-id-3 div.sk-parallel-item {display: flex;flex-direction: column;z-index: 1;position: relative;background-color: white;}#sk-container-id-3 div.sk-parallel-item:first-child::after {align-self: flex-end;width: 50%;}#sk-container-id-3 div.sk-parallel-item:last-child::after {align-self: flex-start;width: 50%;}#sk-container-id-3 div.sk-parallel-item:only-child::after {width: 0;}#sk-container-id-3 div.sk-dashed-wrapped {border: 1px dashed gray;margin: 0 0.4em 0.5em 0.4em;box-sizing: border-box;padding-bottom: 0.4em;background-color: white;}#sk-container-id-3 div.sk-label label {font-family: monospace;font-weight: bold;display: inline-block;line-height: 1.2em;}#sk-container-id-3 div.sk-label-container {text-align: center;}#sk-container-id-3 div.sk-container {/* jupyter's `normalize.less` sets `[hidden] { display: none; }` but bootstrap.min.css set `[hidden] { display: none !important; }` so we also need the `!important` here to be able to override the default hidden behavior on the sphinx rendered scikit-learn.org. See: https://github.com/scikit-learn/scikit-learn/issues/21755 */display: inline-block !important;position: relative;}#sk-container-id-3 div.sk-text-repr-fallback {display: none;}</style><div id=\"sk-container-id-3\" class=\"sk-top-container\"><div class=\"sk-text-repr-fallback\"><pre>LinearRegression()</pre><b>In a Jupyter environment, please rerun this cell to show the HTML representation or trust the notebook. <br />On GitHub, the HTML representation is unable to render, please try loading this page with nbviewer.org.</b></div><div class=\"sk-container\" hidden><div class=\"sk-item\"><div class=\"sk-estimator sk-toggleable\"><input class=\"sk-toggleable__control sk-hidden--visually\" id=\"sk-estimator-id-3\" type=\"checkbox\" checked><label for=\"sk-estimator-id-3\" class=\"sk-toggleable__label sk-toggleable__label-arrow\">LinearRegression</label><div class=\"sk-toggleable__content\"><pre>LinearRegression()</pre></div></div></div></div></div>"
      ],
      "text/plain": [
       "LinearRegression()"
      ]
     },
     "execution_count": 40,
     "metadata": {},
     "output_type": "execute_result"
    }
   ],
   "source": [
    "regression.fit(x_train,y_train)"
   ]
  },
  {
   "cell_type": "code",
   "execution_count": 41,
   "id": "611d32c0-d951-424c-8887-cfd07645bb8a",
   "metadata": {},
   "outputs": [],
   "source": [
    "prediction = regression.predict(x_test)"
   ]
  },
  {
   "cell_type": "code",
   "execution_count": 42,
   "id": "78dc65fc-81c9-466b-bfbb-5b315c254f21",
   "metadata": {},
   "outputs": [
    {
     "data": {
      "text/plain": [
       "array([ 70.51858239, 314.02399748, 335.90619007, 289.643609  ,\n",
       "       278.16196715, 214.78470986, 298.40347241, 384.59296716,\n",
       "       272.42967586, 343.50590602, 262.65245638, 406.38051694,\n",
       "       263.36414081, 429.43234269, 235.3410505 , 210.86901363,\n",
       "       263.87030016,  81.39745508, 231.52956614, 349.86468819,\n",
       "       189.27567792, 390.91927719, 282.49020067, 331.16153157,\n",
       "       253.46733194, 334.7307309 , 457.20782233, 416.63066516,\n",
       "       330.71844852, 166.84029767, 258.97967927, 292.25865843,\n",
       "       233.89205272, 168.43489769, 288.10105554, 268.26286162,\n",
       "       214.64628963, 210.52990699, 296.63224078, 267.09807913,\n",
       "       200.06589357, 190.5286969 , 242.9833457 , 329.66630294,\n",
       "       158.40514088, 189.59859357, 152.69314753, 338.04923784,\n",
       "       343.00198315, 154.92827586, 388.9230587 , 376.07204637,\n",
       "       298.15584337, 174.79080657, 228.69888041, 234.6959748 ,\n",
       "       304.19179097, 435.20651265, 223.03041203, 345.59908251,\n",
       "       268.31187758, 372.31782122, 206.43808263, 308.11565997,\n",
       "       280.64537395, 343.71777689, 210.04321385, 329.81674294,\n",
       "       250.1822036 , 289.62546984, 126.05500357, 270.05409497,\n",
       "       421.37374608, 267.81862114, 287.85887876, 164.91337699,\n",
       "       196.81746622, 168.42235523, 151.42668903, 166.19860751,\n",
       "       255.39611363, 306.67046744, 347.4850355 , 170.21169074,\n",
       "       329.61333606, 218.30672843, 422.29312285, 255.09138736,\n",
       "       313.71152962, 256.29561251, 210.05320692, 117.84890163,\n",
       "       201.42547814, 144.6782487 , 226.59829807, 344.71150284,\n",
       "       140.45181623, 326.19073777, 352.40579627, 199.48493421,\n",
       "       241.37795368, 329.16279376, 413.42758169, 164.08363952,\n",
       "       450.77994924, 188.1459031 , 166.31457465, 246.70719181,\n",
       "       405.13704253, 344.00193377, 390.6268351 , 349.8033433 ,\n",
       "       154.39087871, 381.76319106, 184.15618767, 266.66924725,\n",
       "       334.82591757, 273.27444348, 248.73947905, 240.01958186,\n",
       "       408.44082216, 409.62144365, 276.87971801, 467.737077  ,\n",
       "       173.71511025, 155.34716934, 207.42288191, 345.03084833,\n",
       "       334.49887978, 298.60214923, 126.85579267, 322.44742545,\n",
       "       139.19686718, 337.57570488,  87.6651218 , 232.40506272,\n",
       "       329.80093822, 292.96430174, 318.28864927, 263.4071215 ,\n",
       "       194.8177754 , 227.1940216 , 308.9496466 , 327.23703839,\n",
       "       223.41286887, 314.86551897, 419.08227426, 228.35092066,\n",
       "       217.83324433, 233.98099373, 246.67572325, 368.38998776,\n",
       "       166.92311675, 127.70087476, 166.02549904, 184.36920493,\n",
       "       183.66124127, 240.65643213, 239.20951105, 296.32388349,\n",
       "       395.99401627, 239.61222196, 344.51840284, 137.68182191,\n",
       "        89.17987779, 351.5809875 , 466.38571733, 322.00070853,\n",
       "       120.89678353, 365.17484071, 379.8453053 , 157.49566851,\n",
       "       340.55815746, 134.25628601, 444.24758187, 310.51593173,\n",
       "       235.1935804 , 215.51531962, 276.13309387, 266.15451159,\n",
       "       345.18895631, 299.03476477, 464.89637553, 328.98462748,\n",
       "       194.39969515, 341.62641808, 264.64638085, 100.66555631,\n",
       "       254.41575414, 273.28490911, 359.60050394, 201.77148293,\n",
       "       306.0513943 , 316.94970615, 222.41056297, 206.54970976,\n",
       "       350.60914252,  99.82590413, 254.48827349, 175.42279057])"
      ]
     },
     "execution_count": 42,
     "metadata": {},
     "output_type": "execute_result"
    }
   ],
   "source": [
    "prediction"
   ]
  },
  {
   "cell_type": "code",
   "execution_count": 43,
   "id": "ee2336d7-4f96-44ec-9400-117790158b41",
   "metadata": {},
   "outputs": [
    {
     "data": {
      "text/plain": [
       "0.7156583191837727"
      ]
     },
     "execution_count": 43,
     "metadata": {},
     "output_type": "execute_result"
    }
   ],
   "source": [
    "from sklearn.metrics import r2_score\n",
    "r2_score(y_test,prediction)"
   ]
  },
  {
   "cell_type": "code",
   "execution_count": null,
   "id": "833baf28-feed-4f79-bb9b-77a9a2b5d491",
   "metadata": {},
   "outputs": [],
   "source": []
  }
 ],
 "metadata": {
  "kernelspec": {
   "display_name": "Python 3 (ipykernel)",
   "language": "python",
   "name": "python3"
  },
  "language_info": {
   "codemirror_mode": {
    "name": "ipython",
    "version": 3
   },
   "file_extension": ".py",
   "mimetype": "text/x-python",
   "name": "python",
   "nbconvert_exporter": "python",
   "pygments_lexer": "ipython3",
   "version": "3.10.7"
  }
 },
 "nbformat": 4,
 "nbformat_minor": 5
}
